{
 "cells": [
  {
   "attachments": {},
   "cell_type": "markdown",
   "metadata": {},
   "source": [
    "This file is to test my implementation of `DenseGATConv` by comparing its outputs with `GATConv`."
   ]
  },
  {
   "cell_type": "code",
   "execution_count": 1,
   "metadata": {},
   "outputs": [],
   "source": [
    "import dense_gat\n",
    "from torch_geometric.nn.conv import GATConv"
   ]
  },
  {
   "cell_type": "code",
   "execution_count": 2,
   "metadata": {},
   "outputs": [],
   "source": [
    "N = 10000\n",
    "F = 200\n",
    "C = 20"
   ]
  },
  {
   "cell_type": "code",
   "execution_count": 3,
   "metadata": {},
   "outputs": [],
   "source": [
    "dense_gat_layer = dense_gat.DenseGATConv(in_channels=F, out_channels=C)\n",
    "sparse_gat_layer = GATConv(in_channels=F, out_channels=C)"
   ]
  },
  {
   "cell_type": "code",
   "execution_count": 4,
   "metadata": {},
   "outputs": [],
   "source": [
    "import copy\n",
    "from torch.nn import Parameter\n",
    "\n",
    "dense_gat_layer.lin = copy.deepcopy(sparse_gat_layer.lin_src)\n",
    "dense_gat_layer.att_src = Parameter(copy.deepcopy(sparse_gat_layer.att_src).squeeze(0))\n",
    "dense_gat_layer.att_dst = Parameter(copy.deepcopy(sparse_gat_layer.att_dst).squeeze(0))\n",
    "# dense_gat_layer.bias = copy.deepcopy(sparse_gat_layer.bias)"
   ]
  },
  {
   "cell_type": "code",
   "execution_count": 5,
   "metadata": {},
   "outputs": [],
   "source": [
    "import torch\n",
    "\n",
    "x = torch.randn(N, F)\n",
    "adj = torch.randint(low=0, high=2, size=[N,N]).float()\n",
    "edge_index = adj.to_sparse().coalesce().indices()"
   ]
  },
  {
   "cell_type": "code",
   "execution_count": 6,
   "metadata": {},
   "outputs": [
    {
     "data": {
      "text/plain": [
       "tensor([[-0.8166,  0.4382, -0.5877,  ...,  0.6955, -0.6636, -0.4800],\n",
       "        [-0.8141,  0.4341, -0.6194,  ...,  0.5953, -0.7091, -0.4369],\n",
       "        [-0.3834,  0.1991, -0.3466,  ...,  0.4717, -0.4351, -0.2312],\n",
       "        ...,\n",
       "        [-0.6427,  0.4302, -0.4400,  ...,  0.5691, -0.6976, -0.5333],\n",
       "        [-0.7501,  0.3980, -0.4548,  ...,  0.5724, -0.7257, -0.4207],\n",
       "        [-0.7758,  0.3460, -0.5799,  ...,  0.6213, -0.6954, -0.5230]],\n",
       "       grad_fn=<AddBackward0>)"
      ]
     },
     "execution_count": 6,
     "metadata": {},
     "output_type": "execute_result"
    }
   ],
   "source": [
    "dense_gat_layer(x, adj)"
   ]
  },
  {
   "cell_type": "code",
   "execution_count": 7,
   "metadata": {},
   "outputs": [
    {
     "data": {
      "text/plain": [
       "tensor([[-0.8166,  0.4382, -0.5877,  ...,  0.6955, -0.6636, -0.4800],\n",
       "        [-0.8141,  0.4341, -0.6194,  ...,  0.5953, -0.7091, -0.4369],\n",
       "        [-0.3834,  0.1991, -0.3466,  ...,  0.4717, -0.4351, -0.2312],\n",
       "        ...,\n",
       "        [-0.6427,  0.4302, -0.4400,  ...,  0.5691, -0.6976, -0.5333],\n",
       "        [-0.7501,  0.3980, -0.4548,  ...,  0.5724, -0.7257, -0.4207],\n",
       "        [-0.7758,  0.3460, -0.5799,  ...,  0.6213, -0.6954, -0.5230]],\n",
       "       grad_fn=<AddBackward0>)"
      ]
     },
     "execution_count": 7,
     "metadata": {},
     "output_type": "execute_result"
    }
   ],
   "source": [
    "sparse_gat_layer(x, edge_index)"
   ]
  }
 ],
 "metadata": {
  "kernelspec": {
   "display_name": "torch",
   "language": "python",
   "name": "python3"
  },
  "language_info": {
   "codemirror_mode": {
    "name": "ipython",
    "version": 3
   },
   "file_extension": ".py",
   "mimetype": "text/x-python",
   "name": "python",
   "nbconvert_exporter": "python",
   "pygments_lexer": "ipython3",
   "version": "3.9.13"
  },
  "orig_nbformat": 4,
  "vscode": {
   "interpreter": {
    "hash": "a883cd0216d4960cd56b7fd18f9df9f4151425167a460043f19521b388432bcb"
   }
  }
 },
 "nbformat": 4,
 "nbformat_minor": 2
}
